{
  "nbformat": 4,
  "nbformat_minor": 0,
  "metadata": {
    "colab": {
      "provenance": []
    },
    "kernelspec": {
      "name": "python3",
      "display_name": "Python 3"
    },
    "language_info": {
      "name": "python"
    }
  },
  "cells": [
    {
      "cell_type": "code",
      "source": [
        "!pip install contextily"
      ],
      "metadata": {
        "colab": {
          "base_uri": "https://localhost:8080/"
        },
        "id": "L-G9_ORJ8QdY",
        "outputId": "22c6a478-1658-4322-f6bb-ffe2470fc00a"
      },
      "execution_count": null,
      "outputs": [
        {
          "output_type": "stream",
          "name": "stdout",
          "text": [
            "Collecting contextily\n",
            "  Downloading contextily-1.6.2-py3-none-any.whl.metadata (2.9 kB)\n",
            "Requirement already satisfied: geopy in /usr/local/lib/python3.10/dist-packages (from contextily) (2.4.1)\n",
            "Requirement already satisfied: matplotlib in /usr/local/lib/python3.10/dist-packages (from contextily) (3.7.1)\n",
            "Collecting mercantile (from contextily)\n",
            "  Downloading mercantile-1.2.1-py3-none-any.whl.metadata (4.8 kB)\n",
            "Requirement already satisfied: pillow in /usr/local/lib/python3.10/dist-packages (from contextily) (10.4.0)\n",
            "Collecting rasterio (from contextily)\n",
            "  Downloading rasterio-1.4.0-cp310-cp310-manylinux_2_17_x86_64.manylinux2014_x86_64.whl.metadata (9.0 kB)\n",
            "Requirement already satisfied: requests in /usr/local/lib/python3.10/dist-packages (from contextily) (2.32.3)\n",
            "Requirement already satisfied: joblib in /usr/local/lib/python3.10/dist-packages (from contextily) (1.4.2)\n",
            "Requirement already satisfied: xyzservices in /usr/local/lib/python3.10/dist-packages (from contextily) (2024.9.0)\n",
            "Requirement already satisfied: geographiclib<3,>=1.52 in /usr/local/lib/python3.10/dist-packages (from geopy->contextily) (2.0)\n",
            "Requirement already satisfied: contourpy>=1.0.1 in /usr/local/lib/python3.10/dist-packages (from matplotlib->contextily) (1.3.0)\n",
            "Requirement already satisfied: cycler>=0.10 in /usr/local/lib/python3.10/dist-packages (from matplotlib->contextily) (0.12.1)\n",
            "Requirement already satisfied: fonttools>=4.22.0 in /usr/local/lib/python3.10/dist-packages (from matplotlib->contextily) (4.53.1)\n",
            "Requirement already satisfied: kiwisolver>=1.0.1 in /usr/local/lib/python3.10/dist-packages (from matplotlib->contextily) (1.4.7)\n",
            "Requirement already satisfied: numpy>=1.20 in /usr/local/lib/python3.10/dist-packages (from matplotlib->contextily) (1.26.4)\n",
            "Requirement already satisfied: packaging>=20.0 in /usr/local/lib/python3.10/dist-packages (from matplotlib->contextily) (24.1)\n",
            "Requirement already satisfied: pyparsing>=2.3.1 in /usr/local/lib/python3.10/dist-packages (from matplotlib->contextily) (3.1.4)\n",
            "Requirement already satisfied: python-dateutil>=2.7 in /usr/local/lib/python3.10/dist-packages (from matplotlib->contextily) (2.8.2)\n",
            "Requirement already satisfied: click>=3.0 in /usr/local/lib/python3.10/dist-packages (from mercantile->contextily) (8.1.7)\n",
            "Collecting affine (from rasterio->contextily)\n",
            "  Downloading affine-2.4.0-py3-none-any.whl.metadata (4.0 kB)\n",
            "Requirement already satisfied: attrs in /usr/local/lib/python3.10/dist-packages (from rasterio->contextily) (24.2.0)\n",
            "Requirement already satisfied: certifi in /usr/local/lib/python3.10/dist-packages (from rasterio->contextily) (2024.8.30)\n",
            "Collecting cligj>=0.5 (from rasterio->contextily)\n",
            "  Downloading cligj-0.7.2-py3-none-any.whl.metadata (5.0 kB)\n",
            "Collecting click-plugins (from rasterio->contextily)\n",
            "  Downloading click_plugins-1.1.1-py2.py3-none-any.whl.metadata (6.4 kB)\n",
            "Requirement already satisfied: charset-normalizer<4,>=2 in /usr/local/lib/python3.10/dist-packages (from requests->contextily) (3.3.2)\n",
            "Requirement already satisfied: idna<4,>=2.5 in /usr/local/lib/python3.10/dist-packages (from requests->contextily) (3.10)\n",
            "Requirement already satisfied: urllib3<3,>=1.21.1 in /usr/local/lib/python3.10/dist-packages (from requests->contextily) (2.2.3)\n",
            "Requirement already satisfied: six>=1.5 in /usr/local/lib/python3.10/dist-packages (from python-dateutil>=2.7->matplotlib->contextily) (1.16.0)\n",
            "Downloading contextily-1.6.2-py3-none-any.whl (17 kB)\n",
            "Downloading mercantile-1.2.1-py3-none-any.whl (14 kB)\n",
            "Downloading rasterio-1.4.0-cp310-cp310-manylinux_2_17_x86_64.manylinux2014_x86_64.whl (22.2 MB)\n",
            "\u001b[2K   \u001b[90m━━━━━━━━━━━━━━━━━━━━━━━━━━━━━━━━━━━━━━━━\u001b[0m \u001b[32m22.2/22.2 MB\u001b[0m \u001b[31m66.2 MB/s\u001b[0m eta \u001b[36m0:00:00\u001b[0m\n",
            "\u001b[?25hDownloading cligj-0.7.2-py3-none-any.whl (7.1 kB)\n",
            "Downloading affine-2.4.0-py3-none-any.whl (15 kB)\n",
            "Downloading click_plugins-1.1.1-py2.py3-none-any.whl (7.5 kB)\n",
            "Installing collected packages: mercantile, cligj, click-plugins, affine, rasterio, contextily\n",
            "Successfully installed affine-2.4.0 click-plugins-1.1.1 cligj-0.7.2 contextily-1.6.2 mercantile-1.2.1 rasterio-1.4.0\n"
          ]
        }
      ]
    },
    {
      "cell_type": "code",
      "execution_count": null,
      "metadata": {
        "id": "lOXe0Bj07YEa"
      },
      "outputs": [],
      "source": [
        "import pandas as pd\n",
        "import numpy as np\n",
        "import os\n",
        "import geopandas as gpd\n",
        "import matplotlib.pyplot as plt\n",
        "import contextily as ctx\n",
        "from sklearn.cluster import DBSCAN"
      ]
    },
    {
      "cell_type": "code",
      "source": [
        "from google.colab import drive\n",
        "drive.mount('/content/drive')"
      ],
      "metadata": {
        "colab": {
          "base_uri": "https://localhost:8080/"
        },
        "id": "PsFBbSmH7bMD",
        "outputId": "b4da7c25-d63c-45b7-995c-d5c848eb689e"
      },
      "execution_count": null,
      "outputs": [
        {
          "output_type": "stream",
          "name": "stdout",
          "text": [
            "Mounted at /content/drive\n"
          ]
        }
      ]
    },
    {
      "cell_type": "code",
      "source": [
        "df=pd.read_csv(\"/content/drive/MyDrive/5g_hack/5g_6g hackathon/unique_towers.csv\")\n",
        "print(df.shape)"
      ],
      "metadata": {
        "colab": {
          "base_uri": "https://localhost:8080/"
        },
        "id": "_YRN0VXrAPlH",
        "outputId": "c8ea723e-9133-45aa-fbb8-976d4dfaacaa"
      },
      "execution_count": null,
      "outputs": [
        {
          "output_type": "stream",
          "name": "stdout",
          "text": [
            "(239, 2)\n"
          ]
        }
      ]
    },
    {
      "cell_type": "code",
      "source": [
        "\n",
        "df=pd.read_csv(\"/content/drive/MyDrive/5g_hack/5g_6g hackathon/unique_towers.csv\")\n",
        "\n",
        "fig, ax = plt.subplots(figsize=(10, 8))\n",
        "for i in range(len(df)):\n",
        "    ax.scatter(\n",
        "        df.iloc[i, 0],  # Longitude\n",
        "        df.iloc[i, 1],  # Latitude\n",
        "        # marker='^',     # Triangle marker\n",
        "        s=100,          # Size of the marker, adjust as needed\n",
        "        alpha=0.8,      # Transparency of the marker\n",
        "        color='orange'    # Color of the marker\n",
        "    )\n",
        "ax.set_xlim([12.28, 12.63])  # Longitude range\n",
        "ax.set_ylim([41.78, 42])      # Latitude range\n",
        "\n",
        "    # Add OSM basemap\n",
        "ctx.add_basemap(ax, crs=\"EPSG:4326\", source=ctx.providers.OpenStreetMap.Mapnik)\n",
        "\n",
        "    # Add titles and labels\n",
        "    # ax.set_title(f'Cluster Points on OSM Map - Hour {hour}')\n",
        "ax.set_xlabel('Longitude')\n",
        "ax.set_ylabel('Latitude')\n",
        "\n",
        "plt.savefig(os.path.join( f'cells.png'))\n",
        "plt.close()  # Close the plot to avoid display"
      ],
      "metadata": {
        "id": "FtQATgTr7gS4"
      },
      "execution_count": null,
      "outputs": []
    },
    {
      "cell_type": "code",
      "source": [
        "import math\n",
        "def haversine_distance(lat1, lon1, lat2, lon2):\n",
        "    \"\"\"\n",
        "    Calculate the great-circle distance between two points\n",
        "    on the Earth's surface using the Haversine formula.\n",
        "\n",
        "    Parameters:\n",
        "        lat1, lon1: Latitude and longitude of the first point in degrees\n",
        "        lat2, lon2: Latitude and longitude of the second point in degrees\n",
        "\n",
        "    Returns:\n",
        "        Distance between the two points in kilometers.\n",
        "    \"\"\"\n",
        "    # Convert latitude and longitude from degrees to radians\n",
        "    lat1, lon1, lat2, lon2 = map(math.radians, [lat1, lon1, lat2, lon2])\n",
        "\n",
        "    # Haversine formula\n",
        "    dlat = lat2 - lat1\n",
        "    dlon = lon2 - lon1\n",
        "    a = math.sin(dlat / 2)**2 + math.cos(lat1) * math.cos(lat2) * math.sin(dlon / 2)**2\n",
        "    c = 2 * math.asin(math.sqrt(a))\n",
        "\n",
        "    # Earth's radius in kilometers (mean radius)\n",
        "    R = 6371.0\n",
        "\n",
        "    # Calculate the distance\n",
        "    distance = R * c\n",
        "    return distance\n"
      ],
      "metadata": {
        "id": "ysejTW_9DNaE"
      },
      "execution_count": null,
      "outputs": []
    },
    {
      "cell_type": "code",
      "source": [
        "d=5\n",
        "import pandas as pd\n",
        "import matplotlib.pyplot as plt\n",
        "import contextily as ctx  # For adding basemaps\n",
        "import os\n",
        "\n",
        "# Threshold distance\n",
        "d = 3\n",
        "\n",
        "# Loop through each hour's CSV data (modify the path as needed)\n",
        "for i in range(7, 21):\n",
        "    df_ = pd.read_csv(f\"/content/drive/MyDrive/5g_hack/5g_6g hackathon/hour clusters csv values/hourly_median_{i}.csv\")\n",
        "    fig, ax = plt.subplots(figsize=(10, 8))\n",
        "    flag1=0;\n",
        "    flag2=0\n",
        "    flag3=0\n",
        "    coordinates_set = set()\n",
        "\n",
        "    # Add the coordinate pair (latitude, longitude) to the set\n",
        "\n",
        "    for k in range(len(df)):\n",
        "      flag=0\n",
        "      for j in range(len(df_)):\n",
        "        if (df.iloc[j, 0], df.iloc[j, 1]) not in coordinates_set:\n",
        "\n",
        "          coordinates_set.add((df.iloc[j, 0], df.iloc[j, 1]))\n",
        "          # print(\"x: \",df_.iloc[j, 2],\"y: \",df_.iloc[j, 1])\n",
        "          ax.scatter(\n",
        "              df_.iloc[j, 2],\n",
        "              df_.iloc[j, 1],\n",
        "              s=df_.iloc[j, 4] * 10000,  # Scale size, adjust as needed\n",
        "              alpha=0.3,  # Transparency\n",
        "              color='blue'\n",
        "              # label='Median Point' if flag3==0 else \"\"  # Label only once for the legend\n",
        "          )\n",
        "        flag3=1\n",
        "        d1 = haversine_distance(df_.iloc[j, 1], df_.iloc[j, 2], df.iloc[k, 1], df.iloc[k, 0])\n",
        "            # Plot towers based on distance threshold\n",
        "        if d1 < d:\n",
        "          flag=1\n",
        "          break\n",
        "\n",
        "      if flag==0:\n",
        "         ax.scatter(\n",
        "                    df.iloc[k, 0],\n",
        "                    df.iloc[k, 1],\n",
        "                    marker='^',\n",
        "                    s=10,  # Scale size, adjust as needed\n",
        "                    alpha=0.5,  # Transparency\n",
        "                    color='red',\n",
        "                    label='Cell outside threshold' if (flag2==0) else \"\"  # Label only once\n",
        "                )\n",
        "         flag2=1\n",
        "      else:\n",
        "          ax.scatter(\n",
        "                    df.iloc[k, 0],\n",
        "                    df.iloc[k, 1],\n",
        "                    marker='^',\n",
        "                    s=10,  # Scale size, adjust as needed\n",
        "                    alpha=0.5,  # Transparency\n",
        "                    color='green',\n",
        "                    label='Cell within threshold' if (flag1==0) else \"\"  # Label only once\n",
        "                )\n",
        "          flag1=1\n",
        "\n",
        "\n",
        "    # Plot each cluster point\n",
        "\n",
        "\n",
        "    # Set longitude and latitude limits\n",
        "    ax.set_xlim([12.28, 12.63])  # Longitude range\n",
        "    ax.set_ylim([41.78, 42])     # Latitude range\n",
        "\n",
        "    # Add OSM basemap\n",
        "    ctx.add_basemap(ax, crs=\"EPSG:4326\", source=ctx.providers.OpenStreetMap.Mapnik)\n",
        "\n",
        "    # Add titles and labels\n",
        "    ax.set_xlabel('Longitude')\n",
        "    ax.set_ylabel('Latitude')\n",
        "\n",
        "    # Add legend\n",
        "    ax.legend(loc='upper right')  # You can adjust the location as needed\n",
        "\n",
        "    # Save the figure\n",
        "    plt.savefig(os.path.join(f'/content/drive/MyDrive/5g_hack/5g_6g hackathon/hour clusters csv values/hourly_median_cells{i}.png'))\n",
        "    plt.close()\n"
      ],
      "metadata": {
        "id": "uQ77JIGLUo2e"
      },
      "execution_count": null,
      "outputs": []
    },
    {
      "cell_type": "code",
      "source": [],
      "metadata": {
        "id": "UVYD749E92xU"
      },
      "execution_count": null,
      "outputs": []
    }
  ]
}